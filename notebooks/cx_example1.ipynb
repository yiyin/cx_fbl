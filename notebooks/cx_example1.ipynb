{
 "cells": [
  {
   "cell_type": "markdown",
   "metadata": {},
   "source": [
    "Do not merge cells. Each cell need to be executed on their own and wait for UI to update the diagram."
   ]
  },
  {
   "cell_type": "code",
   "execution_count": null,
   "metadata": {},
   "outputs": [],
   "source": [
    "# if you see a timeout error, please restart the kernel and run again.\n",
    "import cx_fbl.cx_lib as cxlib\n",
    "import itertools\n",
    "import networkx as nx\n",
    "cx = cxlib.CX_Constructor(nm[0], 'Givon_frontiers17')"
   ]
  },
  {
   "cell_type": "code",
   "execution_count": null,
   "metadata": {},
   "outputs": [],
   "source": [
    "# These can be performed by clicking on corresponding items, too.\n",
    "cx.disable_neurons(['PB/R3/s-EB/3/b-lal/LDG/b', 'PB/L1/s-FB/(2,R[2-3])/s-LAL/RHB/b'])\n",
    "# cx.disable_synapses([...])\n",
    "# cx.disable_subregions([...])"
   ]
  },
  {
   "cell_type": "code",
   "execution_count": null,
   "metadata": {},
   "outputs": [],
   "source": [
    "# remove disabled components from the database query\n",
    "res = cx.remove_components()"
   ]
  },
  {
   "cell_type": "code",
   "execution_count": null,
   "metadata": {},
   "outputs": [],
   "source": [
    "shape = (200, 500)\n",
    "dt = 1e-4\n",
    "dur = 0.2\n",
    "steps = int(dur/dt)\n",
    "video_type = 'moving_bar_r2l'\n",
    "bar_width = 50\n",
    "BU_video_config = {'type': video_type,\n",
    "                   'bar_width': bar_width,\n",
    "                   'record': 'video.h5',\n",
    "                   'record_interval': 100 #record every 100 steps of input video\n",
    "                  }\n",
    "BU_rf_config = {'sigma': 0.05}\n",
    "bu_video_config = {'type': video_type,\n",
    "                'bar_width': bar_width,\n",
    "                'record': None}\n",
    "bu_rf_config = {'sigma': 0.05}\n",
    "PB_video_config = {'type': video_type,\n",
    "                   'bar_width': bar_width,\n",
    "                   'record': None}\n",
    "PB_rf_config = {'num_glomeruli': 18}\n",
    "\n",
    "BU_rid = cx.rid_dict['Neuropil']['BU']\n",
    "BU_models = [cx.find_models(neuron)[0] for neuron in cx.owns(BU_rid, 'Neuron')]\n",
    "BU_neurons = {rid: cx.data.node[rid] for rid in BU_models}\n",
    "\n",
    "bu_rid = cx.rid_dict['Neuropil']['bu']\n",
    "bu_models = [cx.find_models(neuron)[0] for neuron in cx.owns(bu_rid, 'Neuron')]\n",
    "bu_neurons = {rid: cx.data.node[rid] for rid in bu_models}\n",
    "\n",
    "PB_subregions = ['PB/L{}'.format(i) for i in range(1,10)] + \\\n",
    "                ['PB/R{}'.format(i) for i in range(1,10)]\n",
    "PB_rids = itertools.chain.from_iterable([cx.neuron_uid_by_family('PB-EB-LAL', k) for k in PB_subregions])\n",
    "PB_neurons = {rid: cx.data.node[rid] for rid in PB_rids}\n",
    "\n",
    "# Since the PB-EB-LAL neuron is a PB neuron, it will be executed in the PB LPU.\n",
    "# So we first create an entry for PB in the input_processors dict,\n",
    "# with name \"PB_InputProcessor\" (See cx_fbl.cx_input).\n",
    "# All the parameters should be spelt out in the dict.\n",
    "# Additional input processors can be specified by extending the list.\n",
    "# We do the same for 'BU' and 'bu' with \"BU_InputProcessor\".\n",
    "input_processors = {'PB': [{'class': 'PB_InputProcessor',\n",
    "                            'name': 'PB',\n",
    "                            'module': 'cx_fbl.cx_input', # this is where PB_InputProcessor should be imported from\n",
    "                            'shape': shape,\n",
    "                            'dt': dt,\n",
    "                            'dur': dur,\n",
    "                            'video_config': PB_video_config,\n",
    "                            'rf_config': PB_rf_config,\n",
    "                            'neurons': PB_neurons,\n",
    "                            'record_file': 'PB_input.h5',\n",
    "                            'record_interval': 10}],\n",
    "                    'BU': [{'class': 'BU_InputProcessor', \n",
    "                            'name': 'BUr',\n",
    "                            'module': 'cx_fbl.cx_input', # this is where BU_InputProcessor should be imported from\n",
    "                            'shape': shape,\n",
    "                            'dt': dt,\n",
    "                            'dur': dur,\n",
    "                            'video_config': BU_video_config,\n",
    "                            'rf_config': BU_rf_config,\n",
    "                            'neurons': BU_neurons}],\n",
    "                    'bu': [{'class': 'BU_InputProcessor',\n",
    "                            'name': 'bul',\n",
    "                            'module': 'cx_fbl.cx_input',\n",
    "                            'shape': shape,\n",
    "                            'dt': dt,\n",
    "                            'dur': dur,\n",
    "                            'video_config': bu_video_config,\n",
    "                            'rf_config': bu_rf_config,\n",
    "                            'neurons': bu_neurons}]}\n",
    "\n",
    "# Specify an output processor that is to record all nodes with an output of 'V' or 'spike_state'.\n",
    "# The sample interval for voltage is every 10 steps. Spikes will be returned with spike time.\n",
    "output_processors = {'PB': [{'class': 'Record',\n",
    "                             'uid_dict': {'V': {'uids': None, 'sample_interval': 10},\n",
    "                                          'spike_state': {'uids': None}}}\n",
    "                           ]\n",
    "                    }\n",
    "\n",
    "\n"
   ]
  },
  {
   "cell_type": "code",
   "execution_count": null,
   "metadata": {},
   "outputs": [],
   "source": [
    "cx.execute(input_processors = input_processors,\n",
    "           output_processors = output_processors,\n",
    "           steps = steps, dt = dt)"
   ]
  },
  {
   "cell_type": "code",
   "execution_count": null,
   "metadata": {},
   "outputs": [],
   "source": [
    "# get result from execution. Must wait until you receive back data from the last step\n",
    "result = cx.get_result()"
   ]
  },
  {
   "cell_type": "code",
   "execution_count": null,
   "metadata": {},
   "outputs": [],
   "source": [
    "# Create a video with video input and all PB_EB_LAL spike outputs\n",
    "%matplotlib inline\n",
    "from IPython.display import HTML\n",
    "anim = cx.animate_PB_EB_LAL()\n",
    "HTML(anim.to_html5_video())"
   ]
  },
  {
   "cell_type": "code",
   "execution_count": null,
   "metadata": {},
   "outputs": [],
   "source": [
    "# Plot PB_EB_LAL spikes:\n",
    "cx.plot_PB_EB_LAL(order = 'PB')"
   ]
  }
 ],
 "metadata": {
  "kernelspec": {
   "display_name": "Python 3",
   "language": "python",
   "name": "python3"
  },
  "language_info": {
   "codemirror_mode": {
    "name": "ipython",
    "version": 3
   },
   "file_extension": ".py",
   "mimetype": "text/x-python",
   "name": "python",
   "nbconvert_exporter": "python",
   "pygments_lexer": "ipython3",
   "version": "3.6.7"
  }
 },
 "nbformat": 4,
 "nbformat_minor": 2
}
